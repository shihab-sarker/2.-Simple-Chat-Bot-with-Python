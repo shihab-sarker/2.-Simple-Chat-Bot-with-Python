{
 "cells": [
  {
   "cell_type": "markdown",
   "metadata": {},
   "source": [
    "# Description\n",
    "Digital personal assistants help people drive cars, plan their day, and buy something online. In a sense, they are simplified versions of artificial intelligence with whom you can talk.\n",
    "\n",
    "In this project, you will develop, step by step, a simple bot that will help you study programming.\n",
    "\n",
    "A picture of a chat bot on the screen\n",
    "\n",
    "# Objective\n",
    "For the first stage, you will write a bot that displays a greeting, its name, and the year it was created. First impressions count!\n",
    "\n",
    "Your program should print the following lines:\n",
    "\n",
    "```\n",
    "Hello! My name is {bot_name}.\n",
    "I was created in {birth_year}."
   ]
  },
  {
   "cell_type": "markdown",
   "metadata": {},
   "source": [
    "Instead of {bot_name}, print any name you choose and replace {birth_year} with the current year (four digits). You don't need to take any input at this stage.\n",
    "\n",
    "# Example\n",
    "Output:\n",
    "\n",
    "```\n",
    "Hello! My name is Aid.\n",
    "I was created in 2023.\n"
   ]
  },
  {
   "cell_type": "markdown",
   "metadata": {},
   "source": [
    "Here's the result with your bot named Aid, and 2023 as its birth year. Feel free to modify the values, but make sure to print exactly two lines."
   ]
  },
  {
   "cell_type": "code",
   "execution_count": 1,
   "metadata": {},
   "outputs": [
    {
     "name": "stdout",
     "output_type": "stream",
     "text": [
      "Hello! My name is Aid.\n",
      "I was created in 2023.\n"
     ]
    }
   ],
   "source": [
    "# Solution:\n",
    "def main():\n",
    "    bot_name = \"Aid\"\n",
    "    birth_year = 2023\n",
    "    print(f\"Hello! My name is {bot_name}.\")\n",
    "    print(f\"I was created in {birth_year}.\")\n",
    "\n",
    "if __name__ == \"__main__\":\n",
    "    main()"
   ]
  }
 ],
 "metadata": {
  "kernelspec": {
   "display_name": "base",
   "language": "python",
   "name": "python3"
  },
  "language_info": {
   "codemirror_mode": {
    "name": "ipython",
    "version": 3
   },
   "file_extension": ".py",
   "mimetype": "text/x-python",
   "name": "python",
   "nbconvert_exporter": "python",
   "pygments_lexer": "ipython3",
   "version": "3.12.4"
  }
 },
 "nbformat": 4,
 "nbformat_minor": 2
}
