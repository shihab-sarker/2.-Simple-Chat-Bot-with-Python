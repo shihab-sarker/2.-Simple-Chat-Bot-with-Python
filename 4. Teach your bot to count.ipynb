{
 "cells": [
  {
   "cell_type": "markdown",
   "metadata": {},
   "source": [
    "# Description\n",
    "Now you will teach your bot to count. It's going to become an expert in numbers!\n",
    "\n",
    "# Objective\n",
    "In this stage, you will program the bot to count from 0 to any positive number users enter.\n",
    "\n",
    "# Example\n",
    "The greater-than symbol followed by a space (> ) represents the user input. Note that it's not part of the input.\n",
    "\n",
    "Example 1: a dialogue with the new version of the bot\n",
    "\n",
    "```\n",
    "Hello! My name is Aid.\n",
    "I was created in 2023.\n",
    "Please, remind me your name.\n",
    "> Max\n",
    "What a great name you have, Max!\n",
    "Let me guess your age.\n",
    "Enter remainders of dividing your age by 3, 5 and 7.\n",
    "> 1\n",
    "> 2\n",
    "> 1\n",
    "Your age is 22; that's a good time to start programming!\n",
    "Now I will prove to you that I can count to any number you want.\n",
    "> 5\n",
    "0 !\n",
    "1 !\n",
    "2 !\n",
    "3 !\n",
    "4 !\n",
    "5 !\n",
    "Completed, have a nice day!\n",
    "```\n",
    "Note: each number starts with a new line, and after a number, the bot should print the exclamation mark.\n",
    "\n",
    "Using a consistent type of quotation marks (either single ' or double \" quotes) in your code enhances readability and reduces the chances of syntax errors. Consistency also makes it easier to follow coding standards, especially when collaborating with others, ensuring that the code remains clean and professional.\n",
    "\n",
    "Use the provided template to simplify your work. You can change the text if you want, but be especially careful when counting numbers.\n",
    "\n"
   ]
  },
  {
   "cell_type": "code",
   "execution_count": 7,
   "metadata": {},
   "outputs": [
    {
     "name": "stdout",
     "output_type": "stream",
     "text": [
      "Hello! My name is Aid.\n",
      "I was created in 2023.\n",
      "Please, remind me your name.\n",
      "What a great name you have, Shihab!\n",
      "Let me guess your age.\n",
      "Enter remainders of dividing your age by 3, 5 and 7.\n",
      "Your age is 22; that's a good time to start programming!\n",
      "Now I will prove to you that I can count to any number you want.\n",
      "0!\n",
      "1!\n",
      "2!\n",
      "3!\n",
      "4!\n",
      "5!\n",
      "Completed, have a nice day!\n"
     ]
    }
   ],
   "source": [
    "# Solution\n",
    "def greet(bot_name, birth_year):\n",
    "    print(f\"Hello! My name is {bot_name}.\")\n",
    "    print(f\"I was created in {birth_year}.\")\n",
    "\n",
    "def remind_name():\n",
    "    print(\"Please, remind me your name.\")\n",
    "    name = input(\"Enter your name> \")\n",
    "    print(f\"What a great name you have, {name}!\")\n",
    "\n",
    "def guess_age():\n",
    "    print(\"Let me guess your age.\")\n",
    "    print(\"Enter remainders of dividing your age by 3, 5 and 7.\")\n",
    "    remainder3 = int(input(\"Enter remainders of dividing your age by 3> \"))\n",
    "    remainder5 = int(input(\"Enter remainders of dividing your age by 5> \"))\n",
    "    remainder7 = int(input(\"Enter remainders of dividing your age by 7> \"))\n",
    "    age = (remainder3 * 70 + remainder5 * 21 + remainder7 * 15) % 105\n",
    "    print(f\"Your age is {age}; that's a good time to start programming!\")\n",
    "\n",
    "def count_to_number():\n",
    "    print(\"Now I will prove to you that I can count to any number you want.\")\n",
    "    number = int(input(\"Input count number> \"))\n",
    "    for i in range(number + 1):\n",
    "        print(f\"{i}!\")\n",
    "    print(\"Completed, have a nice day!\")\n",
    "\n",
    "def main():\n",
    "    bot_name = \"Aid\"\n",
    "    birth_year = 2023\n",
    "    greet(bot_name, birth_year)\n",
    "    remind_name()\n",
    "    guess_age()\n",
    "    count_to_number()\n",
    "\n",
    "if __name__ == \"__main__\":\n",
    "    main()"
   ]
  }
 ],
 "metadata": {
  "kernelspec": {
   "display_name": "base",
   "language": "python",
   "name": "python3"
  },
  "language_info": {
   "codemirror_mode": {
    "name": "ipython",
    "version": 3
   },
   "file_extension": ".py",
   "mimetype": "text/x-python",
   "name": "python",
   "nbconvert_exporter": "python",
   "pygments_lexer": "ipython3",
   "version": "3.12.4"
  }
 },
 "nbformat": 4,
 "nbformat_minor": 2
}
