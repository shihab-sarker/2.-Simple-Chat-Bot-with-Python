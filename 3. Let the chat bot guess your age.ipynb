{
 "cells": [
  {
   "cell_type": "markdown",
   "metadata": {},
   "source": [
    "# Description\n",
    "Keep improving your bot by developing new skills for it. We suggest a simple guessing game that will predict the age of a user.\n",
    "\n",
    "It's based on a simple math trick. First, take a look at this formula:\n",
    "\n",
    "age = (remainder3 * 70 + remainder5 * 21 + remainder7 * 15) % 105\n",
    "\n",
    "The numbers remainder3, remainder5, and remainder7 are the remainders of division by 3, 5 and 7 respectively.\n",
    "\n",
    "It turns out that for each number ranging from 0 to 104, the calculation will result in the number itself. This perfectly fits the ordinary age range, doesn't it? Ask the user for the remainders and use them to guess the age!\n",
    "\n",
    "# Objective\n",
    "In this stage, you will introduce yourself to the bot. It will greet you by your name and then try to guess your age using arithmetic operations.\n",
    "\n",
    "Your program should print the following lines:\n",
    "\n",
    "```\n",
    "Hello! My name is Aid.\n",
    "I was created in 2023.\n",
    "Please, remind me your name.\n",
    "What a great name you have, Max!\n",
    "Let me guess your age.\n",
    "Enter remainders of dividing your age by 3, 5 and 7.\n",
    "Your age is {your_age}; that's a good time to start programming!\n",
    "```\n",
    "\n",
    "Read three numbers from the standard input. Assume that all the numbers will be given on separate lines.\n",
    "\n",
    "Instead of {your_age}, the bot will print the age determined according to the special formula discussed above.\n",
    "\n",
    "# Example\n",
    "The greater-than symbol followed by a space (> ) represents the user input. Note that it's not part of the input.\n",
    "\n",
    "Example 1: a dialogue with the bot\n",
    "\n",
    "```\n",
    "Hello! My name is Aid.\n",
    "I was created in 2023.\n",
    "Please, remind me your name.\n",
    "> Max\n",
    "What a great name you have, Max!\n",
    "Let me guess your age.\n",
    "Enter remainders of dividing your age by 3, 5 and 7.\n",
    "> 1\n",
    "> 2\n",
    "> 1\n",
    "Your age is 22; that's a good time to start programming!\n",
    "```\n",
    "\n",
    "Use the provided template to simplify your work. You can change the text, but not the number of printed lines.\n",
    "\n"
   ]
  },
  {
   "cell_type": "code",
   "execution_count": 5,
   "metadata": {},
   "outputs": [
    {
     "name": "stdout",
     "output_type": "stream",
     "text": [
      "Hello! My name is Aid.\n",
      "I was created in 2023.\n",
      "Please, remind me your name.\n",
      "What a great name you have, Shihab!\n",
      "Let me guess your age.\n",
      "Enter remainders of dividing your age by 3, 5 and 7.\n",
      "Your age is 22; that's a good time to start programming!\n"
     ]
    }
   ],
   "source": [
    "# Solution\n",
    "def greet(bot_name, birth_year):\n",
    "    print(f\"Hello! My name is {bot_name}.\")\n",
    "    print(f\"I was created in {birth_year}.\")\n",
    "\n",
    "def remind_name():\n",
    "    print(\"Please, remind me your name.\")\n",
    "    name = input(\"Enter your name> \")\n",
    "    print(f\"What a great name you have, {name}!\")\n",
    "\n",
    "def guess_age():\n",
    "    print(\"Let me guess your age.\")\n",
    "    print(\"Enter remainders of dividing your age by 3, 5 and 7.\")\n",
    "    remainder3 = int(input(\"Enter remainders of dividing your age by 3> \"))\n",
    "    remainder5 = int(input(\"Enter remainders of dividing your age by 5> \"))\n",
    "    remainder7 = int(input(\"Enter remainders of dividing your age by 7> \"))\n",
    "    age = (remainder3 * 70 + remainder5 * 21 + remainder7 * 15) % 105\n",
    "    print(f\"Your age is {age}; that's a good time to start programming!\")\n",
    "\n",
    "def main():\n",
    "    bot_name = \"Aid\"\n",
    "    birth_year = 2023\n",
    "    greet(bot_name, birth_year)\n",
    "    remind_name()\n",
    "    guess_age()\n",
    "\n",
    "if __name__ == \"__main__\":\n",
    "    main()"
   ]
  }
 ],
 "metadata": {
  "kernelspec": {
   "display_name": "base",
   "language": "python",
   "name": "python3"
  },
  "language_info": {
   "codemirror_mode": {
    "name": "ipython",
    "version": 3
   },
   "file_extension": ".py",
   "mimetype": "text/x-python",
   "name": "python",
   "nbconvert_exporter": "python",
   "pygments_lexer": "ipython3",
   "version": "3.12.4"
  }
 },
 "nbformat": 4,
 "nbformat_minor": 2
}
