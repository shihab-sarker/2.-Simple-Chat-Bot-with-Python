{
 "cells": [
  {
   "cell_type": "markdown",
   "metadata": {},
   "source": [
    "# Description\n",
    "The greeting part is great, but chatbots are also supposed to interact with a user. It's time to implement this functionality. We'll not only make our bot more interactive by asking the user for their name, but we'll also start organizing our code into functions. Functions allow us to structure our code in a way that's easier to read, maintain, and extend. As our bot grows, this will become increasingly important.\n",
    "\n",
    "# Objective\n",
    "In this stage, you will introduce yourself to the bot so that it can greet you by your name.\n",
    "\n",
    "Your program should print the following lines:\n",
    "\n",
    "```Hello! My name is Aid.\n",
    "I was created in 2023.\n",
    "Please, remind me your name.\n",
    "What a great name you have, {your_name}!"
   ]
  },
  {
   "cell_type": "markdown",
   "metadata": {},
   "source": [
    "You may change the name and the creation year of your bot if you want.\n",
    "\n",
    "Instead of {your_name}, the bot must print your name entered from the standard input.\n",
    "\n",
    "# Example\n",
    "The greater-than symbol followed by a space (> ) represents the user input. Note that it's not part of the input.\n",
    "\n",
    "Example 1: a dialogue with the bot\n",
    "\n",
    "```Hello! My name is Aid.\n",
    "I was created in 2023.\n",
    "Please, remind me your name.\n",
    "> Max\n",
    "What a great name you have, Max!"
   ]
  },
  {
   "cell_type": "markdown",
   "metadata": {},
   "source": [
    "We'll define a function called greet() that takes the bot's name and birth year as parameters. This function will handle the initial greeting. We'll also create a function called remind_name() that asks for the user's name and greets them personally. Moreover, we'll add F-strings and provide a more readable and concise way to include variables within strings. Instead of concatenating strings with the + operator, you can directly embed expressions inside curly braces {} within an f-string, making your code cleaner and easier to understand.\n",
    "\n",
    "Use the provided template to simplify your work. You can change the text, but not the number of printed lines."
   ]
  },
  {
   "cell_type": "code",
   "execution_count": 1,
   "metadata": {},
   "outputs": [
    {
     "name": "stdout",
     "output_type": "stream",
     "text": [
      "Hello! My name is Aid.\n",
      "I was created in 2023.\n",
      "Please, remind me your name.\n",
      "What a great name you have, !\n"
     ]
    }
   ],
   "source": [
    "# Solution\n",
    "def greet(bot_name, birth_year):\n",
    "    print(f\"Hello! My name is {bot_name}.\")\n",
    "    print(f\"I was created in {birth_year}.\")\n",
    "\n",
    "def remind_name():\n",
    "    print(\"Please, remind me your name.\")\n",
    "    name = input(\"> \")\n",
    "    print(f\"What a great name you have, {name}!\")\n",
    "\n",
    "def main():\n",
    "    bot_name = \"Aid\"\n",
    "    birth_year = 2023\n",
    "    greet(bot_name, birth_year)\n",
    "    remind_name()\n",
    "\n",
    "if __name__ == \"__main__\":\n",
    "    main()"
   ]
  }
 ],
 "metadata": {
  "kernelspec": {
   "display_name": "base",
   "language": "python",
   "name": "python3"
  },
  "language_info": {
   "codemirror_mode": {
    "name": "ipython",
    "version": 3
   },
   "file_extension": ".py",
   "mimetype": "text/x-python",
   "name": "python",
   "nbconvert_exporter": "python",
   "pygments_lexer": "ipython3",
   "version": "3.12.4"
  }
 },
 "nbformat": 4,
 "nbformat_minor": 2
}
